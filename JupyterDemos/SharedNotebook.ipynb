{
 "cells": [
  {
   "cell_type": "markdown",
   "metadata": {},
   "source": [
    "# Share Notebook"
   ]
  },
  {
   "cell_type": "markdown",
   "id": "8ca5ae64-7d87-40c9-a549-4eae73fef85b",
   "metadata": {},
   "source": [
    "## GitHub Render"
   ]
  },
  {
   "cell_type": "code",
   "execution_count": null,
   "id": "496a93f6-7994-40d2-af3a-2473dd6ab46d",
   "metadata": {},
   "outputs": [],
   "source": []
  }
 ],
 "metadata": {
  "kernelspec": {
   "display_name": "Python 3 (ipykernel)",
   "language": "python",
   "name": "python3"
  },
  "language_info": {
   "codemirror_mode": {
    "name": "ipython",
    "version": 3
   },
   "file_extension": ".py",
   "mimetype": "text/x-python",
   "name": "python",
   "nbconvert_exporter": "python",
   "pygments_lexer": "ipython3",
   "version": "3.12.2"
  }
 },
 "nbformat": 4,
 "nbformat_minor": 5
}
